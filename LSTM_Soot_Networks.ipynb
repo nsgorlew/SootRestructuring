{
  "cells": [
    {
      "cell_type": "code",
      "execution_count": null,
      "metadata": {
        "id": "jIGHor_YFql4"
      },
      "outputs": [],
      "source": [
        "#import libaries\n",
        "import pandas as pd\n",
        "import numpy as np\n",
        "import torch\n",
        "import torch.nn as nn\n",
        "import torch.nn.functional as F\n",
        "import torch.optim as optim\n",
        "import matplotlib.pyplot as plt\n",
        "import torchvision\n",
        "import torchvision.transforms as transforms\n",
        "from torch.utils.data import DataLoader, TensorDataset\n",
        "\n",
        "pd.set_option('display.max_colwidth',1000)\n",
        "\n",
        "#import data\n",
        "fractal_df = pd.read_csv('/content/drive/Shareddrives/Gorlewski_Soot_Restructuring_Deep_Learning/Restructuring Data/Run#133/parametersCSV.csv',header=None)\n"
      ]
    },
    {
      "cell_type": "markdown",
      "metadata": {
        "id": "GMO6hJmpiWmh"
      },
      "source": [
        "# **Data Processing & Visualization**"
      ]
    },
    {
      "cell_type": "code",
      "execution_count": null,
      "metadata": {
        "colab": {
          "base_uri": "https://localhost:8080/",
          "height": 424
        },
        "id": "kJ2nHLRkF3J6",
        "outputId": "95c97d8f-b464-45f5-cb92-8daf2e8980d3"
      },
      "outputs": [
        {
          "output_type": "display_data",
          "data": {
            "text/html": [
              "\n",
              "  <div id=\"df-a739f7b3-bfee-452b-a3a3-ec5d59e2e51f\">\n",
              "    <div class=\"colab-df-container\">\n",
              "      <div>\n",
              "<style scoped>\n",
              "    .dataframe tbody tr th:only-of-type {\n",
              "        vertical-align: middle;\n",
              "    }\n",
              "\n",
              "    .dataframe tbody tr th {\n",
              "        vertical-align: top;\n",
              "    }\n",
              "\n",
              "    .dataframe thead th {\n",
              "        text-align: right;\n",
              "    }\n",
              "</style>\n",
              "<table border=\"1\" class=\"dataframe\">\n",
              "  <thead>\n",
              "    <tr style=\"text-align: right;\">\n",
              "      <th></th>\n",
              "      <th>Fractal Dimension</th>\n",
              "    </tr>\n",
              "  </thead>\n",
              "  <tbody>\n",
              "    <tr>\n",
              "      <th>1</th>\n",
              "      <td>1.7799</td>\n",
              "    </tr>\n",
              "    <tr>\n",
              "      <th>2</th>\n",
              "      <td>1.7800</td>\n",
              "    </tr>\n",
              "    <tr>\n",
              "      <th>3</th>\n",
              "      <td>1.7800</td>\n",
              "    </tr>\n",
              "    <tr>\n",
              "      <th>4</th>\n",
              "      <td>1.7801</td>\n",
              "    </tr>\n",
              "    <tr>\n",
              "      <th>5</th>\n",
              "      <td>1.7802</td>\n",
              "    </tr>\n",
              "    <tr>\n",
              "      <th>...</th>\n",
              "      <td>...</td>\n",
              "    </tr>\n",
              "    <tr>\n",
              "      <th>13530</th>\n",
              "      <td>2.4519</td>\n",
              "    </tr>\n",
              "    <tr>\n",
              "      <th>13531</th>\n",
              "      <td>2.4519</td>\n",
              "    </tr>\n",
              "    <tr>\n",
              "      <th>13532</th>\n",
              "      <td>2.4519</td>\n",
              "    </tr>\n",
              "    <tr>\n",
              "      <th>13533</th>\n",
              "      <td>2.4519</td>\n",
              "    </tr>\n",
              "    <tr>\n",
              "      <th>13534</th>\n",
              "      <td>2.4519</td>\n",
              "    </tr>\n",
              "  </tbody>\n",
              "</table>\n",
              "<p>13534 rows × 1 columns</p>\n",
              "</div>\n",
              "      <button class=\"colab-df-convert\" onclick=\"convertToInteractive('df-a739f7b3-bfee-452b-a3a3-ec5d59e2e51f')\"\n",
              "              title=\"Convert this dataframe to an interactive table.\"\n",
              "              style=\"display:none;\">\n",
              "        \n",
              "  <svg xmlns=\"http://www.w3.org/2000/svg\" height=\"24px\"viewBox=\"0 0 24 24\"\n",
              "       width=\"24px\">\n",
              "    <path d=\"M0 0h24v24H0V0z\" fill=\"none\"/>\n",
              "    <path d=\"M18.56 5.44l.94 2.06.94-2.06 2.06-.94-2.06-.94-.94-2.06-.94 2.06-2.06.94zm-11 1L8.5 8.5l.94-2.06 2.06-.94-2.06-.94L8.5 2.5l-.94 2.06-2.06.94zm10 10l.94 2.06.94-2.06 2.06-.94-2.06-.94-.94-2.06-.94 2.06-2.06.94z\"/><path d=\"M17.41 7.96l-1.37-1.37c-.4-.4-.92-.59-1.43-.59-.52 0-1.04.2-1.43.59L10.3 9.45l-7.72 7.72c-.78.78-.78 2.05 0 2.83L4 21.41c.39.39.9.59 1.41.59.51 0 1.02-.2 1.41-.59l7.78-7.78 2.81-2.81c.8-.78.8-2.07 0-2.86zM5.41 20L4 18.59l7.72-7.72 1.47 1.35L5.41 20z\"/>\n",
              "  </svg>\n",
              "      </button>\n",
              "      \n",
              "  <style>\n",
              "    .colab-df-container {\n",
              "      display:flex;\n",
              "      flex-wrap:wrap;\n",
              "      gap: 12px;\n",
              "    }\n",
              "\n",
              "    .colab-df-convert {\n",
              "      background-color: #E8F0FE;\n",
              "      border: none;\n",
              "      border-radius: 50%;\n",
              "      cursor: pointer;\n",
              "      display: none;\n",
              "      fill: #1967D2;\n",
              "      height: 32px;\n",
              "      padding: 0 0 0 0;\n",
              "      width: 32px;\n",
              "    }\n",
              "\n",
              "    .colab-df-convert:hover {\n",
              "      background-color: #E2EBFA;\n",
              "      box-shadow: 0px 1px 2px rgba(60, 64, 67, 0.3), 0px 1px 3px 1px rgba(60, 64, 67, 0.15);\n",
              "      fill: #174EA6;\n",
              "    }\n",
              "\n",
              "    [theme=dark] .colab-df-convert {\n",
              "      background-color: #3B4455;\n",
              "      fill: #D2E3FC;\n",
              "    }\n",
              "\n",
              "    [theme=dark] .colab-df-convert:hover {\n",
              "      background-color: #434B5C;\n",
              "      box-shadow: 0px 1px 3px 1px rgba(0, 0, 0, 0.15);\n",
              "      filter: drop-shadow(0px 1px 2px rgba(0, 0, 0, 0.3));\n",
              "      fill: #FFFFFF;\n",
              "    }\n",
              "  </style>\n",
              "\n",
              "      <script>\n",
              "        const buttonEl =\n",
              "          document.querySelector('#df-a739f7b3-bfee-452b-a3a3-ec5d59e2e51f button.colab-df-convert');\n",
              "        buttonEl.style.display =\n",
              "          google.colab.kernel.accessAllowed ? 'block' : 'none';\n",
              "\n",
              "        async function convertToInteractive(key) {\n",
              "          const element = document.querySelector('#df-a739f7b3-bfee-452b-a3a3-ec5d59e2e51f');\n",
              "          const dataTable =\n",
              "            await google.colab.kernel.invokeFunction('convertToInteractive',\n",
              "                                                     [key], {});\n",
              "          if (!dataTable) return;\n",
              "\n",
              "          const docLinkHtml = 'Like what you see? Visit the ' +\n",
              "            '<a target=\"_blank\" href=https://colab.research.google.com/notebooks/data_table.ipynb>data table notebook</a>'\n",
              "            + ' to learn more about interactive tables.';\n",
              "          element.innerHTML = '';\n",
              "          dataTable['output_type'] = 'display_data';\n",
              "          await google.colab.output.renderOutput(dataTable, element);\n",
              "          const docLink = document.createElement('div');\n",
              "          docLink.innerHTML = docLinkHtml;\n",
              "          element.appendChild(docLink);\n",
              "        }\n",
              "      </script>\n",
              "    </div>\n",
              "  </div>\n",
              "  "
            ],
            "text/plain": [
              "       Fractal Dimension\n",
              "1                 1.7799\n",
              "2                 1.7800\n",
              "3                 1.7800\n",
              "4                 1.7801\n",
              "5                 1.7802\n",
              "...                  ...\n",
              "13530             2.4519\n",
              "13531             2.4519\n",
              "13532             2.4519\n",
              "13533             2.4519\n",
              "13534             2.4519\n",
              "\n",
              "[13534 rows x 1 columns]"
            ]
          },
          "metadata": {}
        }
      ],
      "source": [
        "# process fractal dimension data\n",
        "\n",
        "#check for null values\n",
        "fractal_df.isnull().values.any()\n",
        "\n",
        "for column in range(1,6):\n",
        "  fractal_df = fractal_df.drop(columns=column)\n",
        "\n",
        "fractal_df.columns = ['Fractal Dimension']\n",
        "fractal_df = fractal_df.drop(index=0)\n",
        "fractal_df['Fractal Dimension'] = fractal_df['Fractal Dimension'].astype(float).round(4)\n",
        "display(fractal_df)"
      ]
    },
    {
      "cell_type": "code",
      "execution_count": null,
      "metadata": {
        "colab": {
          "base_uri": "https://localhost:8080/",
          "height": 279
        },
        "id": "c6gvuiIdHdyT",
        "outputId": "f3f04476-049e-4c32-c0ab-ef036b9c3dcf"
      },
      "outputs": [
        {
          "output_type": "display_data",
          "data": {
            "image/png": "[encoded data removed]",
            "text/plain": [
              "<Figure size 432x288 with 1 Axes>"
            ]
          },
          "metadata": {
            "needs_background": "light"
          }
        }
      ],
      "source": [
        "#visualize the change in fractal dimension over timesteps\n",
        "x_axis = np.linspace(0,13534,num=13534, endpoint=False)\n",
        "plt.plot((x_axis),fractal_df['Fractal Dimension'])\n",
        "plt.xlabel('Step #')\n",
        "plt.ylabel('Fractal Dimension')\n",
        "plt.show()\n"
      ]
    },
    {
      "cell_type": "markdown",
      "source": [
        "## **Initialize Data for Models**"
      ],
      "metadata": {
        "id": "0zanatSdbW2l"
      }
    },
    {
      "cell_type": "code",
      "execution_count": null,
      "metadata": {
        "id": "ZhHuecOwAdkB"
      },
      "outputs": [],
      "source": [
        "\n",
        "#make into a vector\n",
        "data = fractal_df['Fractal Dimension'].values.reshape(-1,1)\n",
        "\n",
        "# split the data into train and test sets\n",
        "def split_data(dat, lookback):\n",
        "    data_raw = dat\n",
        "    data = []\n",
        "    \n",
        "    # create all possible sequences of length seq_len\n",
        "    for index in range(len(data_raw) - lookback): \n",
        "        data.append(data_raw[index: index + lookback])\n",
        "    \n",
        "    data = np.array(data);\n",
        "    test_set_size = int(np.round(0.5*data.shape[0]));\n",
        "    train_set_size = data.shape[0] - (test_set_size);\n",
        "    \n",
        "    x_train = data[:train_set_size,:-1,:]\n",
        "    y_train = data[:train_set_size,-1,:]\n",
        "    \n",
        "    x_test = data[train_set_size:,:-1]\n",
        "    y_test = data[train_set_size:,-1,:]\n",
        "    \n",
        "    return [x_train, y_train, x_test, y_test]\n",
        "lookback = 125 # choose sequence length\n",
        "x_train, y_train, x_test, y_test = split_data(data, lookback)\n",
        "train_dataset = TensorDataset(torch.tensor(x_train,dtype=torch.float64),torch.tensor(y_train,dtype=torch.float64))\n",
        "dataloader = DataLoader(train_dataset,batch_size=256,shuffle=False)\n",
        "test_dataset = TensorDataset(torch.tensor(x_test,dtype=torch.float64),torch.tensor(y_test,dtype=torch.float64))\n",
        "testloader = DataLoader(test_dataset,batch_size=1,shuffle=False)"
      ]
    },
    {
      "cell_type": "markdown",
      "metadata": {
        "id": "SngZ4E-YXM5f"
      },
      "source": [
        "# **Vanilla RNN**"
      ]
    },
    {
      "cell_type": "code",
      "execution_count": null,
      "metadata": {
        "id": "vsYx1s7pXZiD"
      },
      "outputs": [],
      "source": [
        "class RNN(nn.Module):\n",
        "    def __init__(self, input_dim, hidden_dim, num_layers, output_dim):\n",
        "        super(RNN, self).__init__()\n",
        "        self.hidden_dim = hidden_dim\n",
        "        self.num_layers = num_layers\n",
        "        \n",
        "        self.rnn = nn.RNN(input_dim, hidden_dim, num_layers, batch_first=True)\n",
        "        self.fc = nn.Linear(hidden_dim, output_dim)    \n",
        "    def forward(self, x):\n",
        "        h0 = torch.zeros(self.num_layers, x.size(0), self.hidden_dim).requires_grad_()\n",
        "        out, (hn) = self.rnn(x, (h0.detach()))\n",
        "        out = self.fc(out[:, -1, :]) \n",
        "        return out\n",
        "\n",
        "input_dim = 1\n",
        "hidden_dim = 128\n",
        "num_layers = 3\n",
        "output_dim = 1\n",
        "num_epochs = 100"
      ]
    },
    {
      "cell_type": "code",
      "source": [
        "\n",
        "#train\n",
        "model = RNN(input_dim=input_dim, hidden_dim=hidden_dim, output_dim=output_dim, num_layers=num_layers)\n",
        "criterion = torch.nn.L1Loss()\n",
        "optimiser = torch.optim.RMSprop(model.parameters(), lr=5e-6)\n",
        "#scheduler = torch.optim.lr_scheduler.ExponentialLR(optimiser,gamma=0.5)\n",
        "\n",
        "import time\n",
        "hist = np.zeros(num_epochs)\n",
        "start_time = time.time()\n",
        "rnn = []\n",
        "for t in range(num_epochs):\n",
        "  for id_batch, (x_batch,y_batch) in enumerate(dataloader):\n",
        "      y_batch_pred = model(x_batch.float())\n",
        "      loss = criterion(y_batch_pred, y_batch)\n",
        "      \n",
        "      hist[t] = loss.item()\n",
        "      optimiser.zero_grad()\n",
        "      loss.backward()\n",
        "      optimiser.step()\n",
        "      #scheduler.step()\n",
        "  print(\"Epoch \", t, \"Loss: \", loss.item())\n",
        "training_time = time.time()-start_time\n",
        "print(\"Training time: {}\".format(training_time))"
      ],
      "metadata": {
        "id": "xqPA4k72_5Cw",
        "colab": {
          "base_uri": "https://localhost:8080/"
        },
        "outputId": "cf98f1dd-f9ce-4f1d-804e-4d7f979dd22d"
      },
      "execution_count": null,
      "outputs": [
        {
          "output_type": "stream",
          "name": "stdout",
          "text": [
            "Epoch  0 Loss:  2.126591920852661\n",
            "Epoch  1 Loss:  1.9794132709503174\n",
            "Epoch  2 Loss:  1.8344192504882812\n",
            "Epoch  3 Loss:  1.6824910640716553\n",
            "Epoch  4 Loss:  1.5210000276565552\n",
            "Epoch  5 Loss:  1.34979248046875\n",
            "Epoch  6 Loss:  1.1699458360671997\n",
            "Epoch  7 Loss:  0.9832554459571838\n",
            "Epoch  8 Loss:  0.791886568069458\n",
            "Epoch  9 Loss:  0.598170280456543\n",
            "Epoch  10 Loss:  0.40433627367019653\n",
            "Epoch  11 Loss:  0.26880788803100586\n",
            "Epoch  12 Loss:  0.18468600511550903\n",
            "Epoch  13 Loss:  0.12870271503925323\n",
            "Epoch  14 Loss:  0.09085708111524582\n",
            "Epoch  15 Loss:  0.06238798797130585\n",
            "Epoch  16 Loss:  0.040364544838666916\n",
            "Epoch  17 Loss:  0.02284150756895542\n",
            "Epoch  18 Loss:  0.010464484803378582\n",
            "Epoch  19 Loss:  0.0017607721965759993\n",
            "Epoch  20 Loss:  0.003749324008822441\n",
            "Epoch  21 Loss:  0.000788968347478658\n",
            "Epoch  22 Loss:  0.004738284274935722\n",
            "Epoch  23 Loss:  0.00016718731785658747\n",
            "Epoch  24 Loss:  0.005366279743611813\n",
            "Epoch  25 Loss:  0.0003237263299524784\n",
            "Epoch  26 Loss:  0.0027900205459445715\n",
            "Epoch  27 Loss:  0.003014041343703866\n",
            "Epoch  28 Loss:  0.0008991226204670966\n",
            "Epoch  29 Loss:  0.004630047362297773\n",
            "Epoch  30 Loss:  0.00028270858456380665\n",
            "Epoch  31 Loss:  0.0024693424347788095\n",
            "Epoch  32 Loss:  0.0037693462800234556\n",
            "Epoch  33 Loss:  5.240592872723937e-05\n",
            "Epoch  34 Loss:  0.002383759943768382\n",
            "Epoch  35 Loss:  0.0041894447058439255\n",
            "Epoch  36 Loss:  0.0005814469768665731\n",
            "Epoch  37 Loss:  0.0017407352570444345\n",
            "Epoch  38 Loss:  0.004895407240837812\n",
            "Epoch  39 Loss:  0.001347972545772791\n",
            "Epoch  40 Loss:  0.0009587272652424872\n",
            "Epoch  41 Loss:  0.005743219517171383\n",
            "Epoch  42 Loss:  0.002156211528927088\n",
            "Epoch  43 Loss:  0.0001800522004486993\n",
            "Epoch  44 Loss:  0.006319568492472172\n",
            "Epoch  45 Loss:  0.002967554610222578\n",
            "Epoch  46 Loss:  0.0006572786369360983\n",
            "Epoch  47 Loss:  0.0008879169472493231\n",
            "Epoch  48 Loss:  0.006330769509077072\n",
            "Epoch  49 Loss:  0.00337476865388453\n",
            "Epoch  50 Loss:  0.0013324851170182228\n",
            "Epoch  51 Loss:  4.367675865069032e-05\n",
            "Epoch  52 Loss:  0.005386641249060631\n",
            "Epoch  53 Loss:  0.004467440769076347\n",
            "Epoch  54 Loss:  0.0024373119231313467\n",
            "Epoch  55 Loss:  0.001079751760698855\n",
            "Epoch  56 Loss:  0.00023264069750439376\n",
            "Epoch  57 Loss:  0.00015692073793616146\n",
            "Epoch  58 Loss:  0.004766510799527168\n",
            "Epoch  59 Loss:  0.005650474689900875\n",
            "Epoch  60 Loss:  0.003828955814242363\n",
            "Epoch  61 Loss:  0.002689787419512868\n",
            "Epoch  62 Loss:  0.00201769033446908\n",
            "Epoch  63 Loss:  0.0017580476123839617\n",
            "Epoch  64 Loss:  0.0017537513049319386\n",
            "Epoch  65 Loss:  0.0018493717070668936\n",
            "Epoch  66 Loss:  0.0020961398258805275\n",
            "Epoch  67 Loss:  0.0023901050444692373\n",
            "Epoch  68 Loss:  0.0026785912923514843\n",
            "Epoch  69 Loss:  0.0030135693959891796\n",
            "Epoch  70 Loss:  0.003395267529413104\n",
            "Epoch  71 Loss:  0.0037710152100771666\n",
            "Epoch  72 Loss:  0.0041419994086027145\n",
            "Epoch  73 Loss:  0.00450796727091074\n",
            "Epoch  74 Loss:  0.004868937656283379\n",
            "Epoch  75 Loss:  0.005278298631310463\n",
            "Epoch  76 Loss:  0.005683853290975094\n",
            "Epoch  77 Loss:  0.006085588596761227\n",
            "Epoch  78 Loss:  0.006483986042439938\n",
            "Epoch  79 Loss:  0.0021527274511754513\n",
            "Epoch  80 Loss:  0.00350789912045002\n",
            "Epoch  81 Loss:  0.0042565432377159595\n",
            "Epoch  82 Loss:  0.0045669591054320335\n",
            "Epoch  83 Loss:  0.004549544770270586\n",
            "Epoch  84 Loss:  0.004366444423794746\n",
            "Epoch  85 Loss:  0.00412754388526082\n",
            "Epoch  86 Loss:  0.003778737736865878\n",
            "Epoch  87 Loss:  0.0034284910652786493\n",
            "Epoch  88 Loss:  0.0030227170791476965\n",
            "Epoch  89 Loss:  0.0026169237680733204\n",
            "Epoch  90 Loss:  0.0021567854564636946\n",
            "Epoch  91 Loss:  0.001696389401331544\n",
            "Epoch  92 Loss:  0.0012362463166937232\n",
            "Epoch  93 Loss:  0.0007765705813653767\n",
            "Epoch  94 Loss:  0.00031738122925162315\n",
            "Epoch  95 Loss:  0.00013704938464798033\n",
            "Epoch  96 Loss:  0.00594920851290226\n",
            "Epoch  97 Loss:  0.004348557908087969\n",
            "Epoch  98 Loss:  0.001730721676722169\n",
            "Epoch  99 Loss:  2.356214463361539e-05\n",
            "Training time: 2344.091636657715\n"
          ]
        }
      ]
    },
    {
      "cell_type": "code",
      "execution_count": null,
      "metadata": {
        "colab": {
          "base_uri": "https://localhost:8080/",
          "height": 279
        },
        "id": "wSEj9SzckFGr",
        "outputId": "7c690836-0314-40e5-9e50-14abcabd3071"
      },
      "outputs": [
        {
          "output_type": "display_data",
          "data": {
            "image/png": "[encoded data removed]",
            "text/plain": [
              "<Figure size 432x288 with 1 Axes>"
            ]
          },
          "metadata": {
            "needs_background": "light"
          }
        }
      ],
      "source": [
        "plt.plot(np.linspace(0,100,num=100),hist)\n",
        "plt.xlabel(\"Training epoch #\")\n",
        "plt.ylabel(\"absolute training error\")\n",
        "plt.show()"
      ]
    },
    {
      "cell_type": "code",
      "source": [
        "#Save trained Vanilla RNN model\n",
        "torch.save(model.state_dict(), '/content/drive/Shareddrives/Gorlewski_Soot_Restructuring_Deep_Learning/vanillaRNN_trained.pth')"
      ],
      "metadata": {
        "id": "GkmDtEKvUxec"
      },
      "execution_count": null,
      "outputs": []
    },
    {
      "cell_type": "markdown",
      "source": [
        "## **Load Vanilla RNN Model (for TA)**"
      ],
      "metadata": {
        "id": "HswOhLawVia0"
      }
    },
    {
      "cell_type": "code",
      "source": [
        "model = RNN(input_dim=input_dim, hidden_dim=hidden_dim, output_dim=output_dim, num_layers=num_layers)\n",
        "model.load_state_dict(torch.load('/content/drive/Shareddrives/Gorlewski_Soot_Restructuring_Deep_Learning/vanillaRNN_trained.pth'))"
      ],
      "metadata": {
        "colab": {
          "base_uri": "https://localhost:8080/"
        },
        "id": "WOCzJCX9VtLN",
        "outputId": "22e354ad-75b8-4c90-ad78-fdba682cb3ac"
      },
      "execution_count": null,
      "outputs": [
        {
          "output_type": "execute_result",
          "data": {
            "text/plain": [
              "<All keys matched successfully>"
            ]
          },
          "metadata": {},
          "execution_count": 52
        }
      ]
    },
    {
      "cell_type": "markdown",
      "source": [
        "## **Testing Vanilla RNN**"
      ],
      "metadata": {
        "id": "gPCjmOFPXplt"
      }
    },
    {
      "cell_type": "code",
      "execution_count": null,
      "metadata": {
        "colab": {
          "base_uri": "https://localhost:8080/",
          "height": 314
        },
        "id": "Bka2xnw0wm4c",
        "outputId": "a636c752-7321-4935-a427-14f78ef685e1"
      },
      "outputs": [
        {
          "output_type": "display_data",
          "data": {
            "image/png": "[encoded data removed]",
            "text/plain": [
              "<Figure size 432x288 with 1 Axes>"
            ]
          },
          "metadata": {
            "needs_background": "light"
          }
        },
        {
          "output_type": "stream",
          "name": "stdout",
          "text": [
            "Total MSE Testing Loss: 0.0007320566007989524\n"
          ]
        }
      ],
      "source": [
        "#testing\n",
        "results_vanilla = []\n",
        "test_error_vanilla = []\n",
        "model.eval()\n",
        "test_model_vanilla = model\n",
        "for id_batch,(x_batch,y_batch) in enumerate(testloader):\n",
        "  with torch.no_grad():\n",
        "    test_model_vanilla.hidden = (torch.zeros(1, 1, model.hidden_dim),torch.zeros(1, 1, model.hidden_dim))\n",
        "    y_batch_pred_vanilla = test_model_vanilla(x_batch.float())\n",
        "    test_error_vanilla.append((y_batch_pred_vanilla-y_batch)**2)\n",
        "    results_vanilla.append(y_batch_pred_vanilla)\n",
        "\n",
        "#print(len(results_vanilla))\n",
        "#print(\"#\"*80)\n",
        "#print(results_vanilla)\n",
        "\n",
        "plt.plot(np.linspace(6830,13534,num=6704),results_vanilla,label='test prediction')\n",
        "plt.plot(np.linspace(6830,13534,num=6704),y_test,label='true value')\n",
        "plt.title('Vanilla RNN Test')\n",
        "plt.xlabel('Timestep')\n",
        "plt.ylabel('Fractal Dimension')\n",
        "plt.legend(loc=\"upper left\")\n",
        "plt.show()\n",
        "total_test_loss_vanilla = sum(test_error_vanilla)*(1/(len(test_error_vanilla)))\n",
        "print(\"Total MSE Testing Loss: {}\".format(float(total_test_loss_vanilla)))"
      ]
    },
    {
      "cell_type": "markdown",
      "metadata": {
        "id": "mODhZPNEJy9w"
      },
      "source": [
        "# **LSTM**"
      ]
    },
    {
      "cell_type": "code",
      "execution_count": null,
      "metadata": {
        "id": "5ImMLQ3-P1q4"
      },
      "outputs": [],
      "source": [
        "class LSTM(nn.Module):\n",
        "    def __init__(self, input_dim, hidden_dim, num_layers, output_dim):\n",
        "        super(LSTM, self).__init__()\n",
        "        self.hidden_dim = hidden_dim\n",
        "        self.num_layers = num_layers\n",
        "        \n",
        "        self.lstm = nn.LSTM(input_dim, hidden_dim, num_layers, batch_first=True)\n",
        "        self.fc = nn.Linear(hidden_dim, output_dim)    \n",
        "    def forward(self, x):\n",
        "        h0 = torch.zeros(self.num_layers, x.size(0), self.hidden_dim).requires_grad_()\n",
        "        c0 = torch.zeros(self.num_layers, x.size(0), self.hidden_dim).requires_grad_()\n",
        "        out, (hn, cn) = self.lstm(x, (h0.detach(), c0.detach()))\n",
        "        out = self.fc(out[:, -1, :]) \n",
        "        return out"
      ]
    },
    {
      "cell_type": "code",
      "source": [
        "#train\n",
        "input_dim = 1\n",
        "hidden_dim = 128\n",
        "num_layers = 3\n",
        "output_dim = 1\n",
        "num_epochs = 100\n",
        "\n",
        "model_lstm = LSTM(input_dim=input_dim, hidden_dim=hidden_dim, output_dim=output_dim, num_layers=num_layers)\n",
        "criterion = torch.nn.L1Loss()\n",
        "optimiser = torch.optim.RMSprop(model_lstm.parameters(), lr=5e-6)\n",
        "#scheduler = torch.optim.lr_scheduler.ExponentialLR(optimiser,gamma=0.9)\n",
        "\n",
        "import time\n",
        "hist_lstm = np.zeros(num_epochs)\n",
        "start_time = time.time()\n",
        "rnn = []\n",
        "for t in range(num_epochs):\n",
        "  for id_batch, (x_batch,y_batch) in enumerate(dataloader):\n",
        "      y_batch_pred = model_lstm(x_batch.float())\n",
        "      loss = criterion(y_batch_pred, y_batch)\n",
        "      \n",
        "      hist_lstm[t] = loss.item()\n",
        "      optimiser.zero_grad()\n",
        "      loss.backward()\n",
        "      optimiser.step()\n",
        "      #scheduler.step()\n",
        "  print(\"Epoch \", t, \"Loss: \", loss.item())\n",
        "\n",
        "training_time = time.time()-start_time\n",
        "print(\"Training time: {}\".format(training_time))"
      ],
      "metadata": {
        "colab": {
          "base_uri": "https://localhost:8080/"
        },
        "id": "mDvNhWkXJ7sX",
        "outputId": "ca7d8072-3f86-471f-fc32-35f53806a1c0"
      },
      "execution_count": null,
      "outputs": [
        {
          "output_type": "stream",
          "name": "stdout",
          "text": [
            "Epoch  0 Loss:  2.3833792209625244\n",
            "Epoch  1 Loss:  2.368488311767578\n",
            "Epoch  2 Loss:  2.3556149005889893\n",
            "Epoch  3 Loss:  2.343414545059204\n",
            "Epoch  4 Loss:  2.3313424587249756\n",
            "Epoch  5 Loss:  2.3190765380859375\n",
            "Epoch  6 Loss:  2.3063900470733643\n",
            "Epoch  7 Loss:  2.293095588684082\n",
            "Epoch  8 Loss:  2.2790205478668213\n",
            "Epoch  9 Loss:  2.263991355895996\n",
            "Epoch  10 Loss:  2.2478132247924805\n",
            "Epoch  11 Loss:  2.230255365371704\n",
            "Epoch  12 Loss:  2.211040496826172\n",
            "Epoch  13 Loss:  2.189832925796509\n",
            "Epoch  14 Loss:  2.166221857070923\n",
            "Epoch  15 Loss:  2.1396851539611816\n",
            "Epoch  16 Loss:  2.1095619201660156\n",
            "Epoch  17 Loss:  2.0750160217285156\n",
            "Epoch  18 Loss:  2.0349600315093994\n",
            "Epoch  19 Loss:  1.9879624843597412\n",
            "Epoch  20 Loss:  1.9320954084396362\n",
            "Epoch  21 Loss:  1.864742398262024\n",
            "Epoch  22 Loss:  1.782381534576416\n",
            "Epoch  23 Loss:  1.680420994758606\n",
            "Epoch  24 Loss:  1.5531996488571167\n",
            "Epoch  25 Loss:  1.3946926593780518\n",
            "Epoch  26 Loss:  1.200644850730896\n",
            "Epoch  27 Loss:  0.9719899892807007\n",
            "Epoch  28 Loss:  0.7175554037094116\n",
            "Epoch  29 Loss:  0.45248910784721375\n",
            "Epoch  30 Loss:  0.19244340062141418\n",
            "Epoch  31 Loss:  0.06937745958566666\n",
            "Epoch  32 Loss:  0.017196951434016228\n",
            "Epoch  33 Loss:  0.005213787779211998\n",
            "Epoch  34 Loss:  0.0008134380332194269\n",
            "Epoch  35 Loss:  0.004670184571295977\n",
            "Epoch  36 Loss:  0.0004825130454264581\n",
            "Epoch  37 Loss:  0.004878805950284004\n",
            "Epoch  38 Loss:  0.0004186266160104424\n",
            "Epoch  39 Loss:  0.0045350161381065845\n",
            "Epoch  40 Loss:  0.0010868945391848683\n",
            "Epoch  41 Loss:  0.003616856411099434\n",
            "Epoch  42 Loss:  0.002266122493892908\n",
            "Epoch  43 Loss:  0.002287205308675766\n",
            "Epoch  44 Loss:  0.0037350188940763474\n",
            "Epoch  45 Loss:  0.0006845459574833512\n",
            "Epoch  46 Loss:  0.005354354158043861\n",
            "Epoch  47 Loss:  0.0010015455773100257\n",
            "Epoch  48 Loss:  0.0012274248292669654\n",
            "Epoch  49 Loss:  0.006553361192345619\n",
            "Epoch  50 Loss:  0.0029463304672390223\n",
            "Epoch  51 Loss:  0.0012325780699029565\n",
            "Epoch  52 Loss:  0.0006501164752990007\n",
            "Epoch  53 Loss:  0.0007681433926336467\n",
            "Epoch  54 Loss:  0.001283122692257166\n",
            "Epoch  55 Loss:  0.002076097996905446\n",
            "Epoch  56 Loss:  0.003024775069206953\n",
            "Epoch  57 Loss:  0.0040697637014091015\n",
            "Epoch  58 Loss:  0.00514955585822463\n",
            "Epoch  59 Loss:  0.00626416876912117\n",
            "Epoch  60 Loss:  0.007413108833134174\n",
            "Epoch  61 Loss:  0.00774554954841733\n",
            "Epoch  62 Loss:  0.006609956733882427\n",
            "Epoch  63 Loss:  0.005501792766153812\n",
            "Epoch  64 Loss:  0.0043585714884102345\n",
            "Epoch  65 Loss:  0.003178657265380025\n",
            "Epoch  66 Loss:  0.0020275528077036142\n",
            "Epoch  67 Loss:  0.0009038861026056111\n",
            "Epoch  68 Loss:  0.0002493348438292742\n",
            "Epoch  69 Loss:  0.0067266919650137424\n",
            "Epoch  70 Loss:  0.003730586962774396\n",
            "Epoch  71 Loss:  0.00092835578834638\n",
            "Epoch  72 Loss:  0.008143946528434753\n",
            "Epoch  73 Loss:  0.001413391437381506\n",
            "Epoch  74 Loss:  0.004016834776848555\n",
            "Epoch  75 Loss:  0.004782494623214006\n",
            "Epoch  76 Loss:  0.0021602646447718143\n",
            "Epoch  77 Loss:  0.0030780253000557423\n",
            "Epoch  78 Loss:  0.004015637561678886\n",
            "Epoch  79 Loss:  0.0005314860609360039\n",
            "Epoch  80 Loss:  0.006703088525682688\n",
            "Epoch  81 Loss:  0.00225062039680779\n",
            "Epoch  82 Loss:  0.003217427060008049\n",
            "Epoch  83 Loss:  0.004707289859652519\n",
            "Epoch  84 Loss:  0.006298253312706947\n",
            "Epoch  85 Loss:  0.007851555943489075\n",
            "Epoch  86 Loss:  0.009115512482821941\n",
            "Epoch  87 Loss:  0.007741024252027273\n",
            "Epoch  88 Loss:  0.00632289657369256\n",
            "Epoch  89 Loss:  0.004859260283410549\n",
            "Epoch  90 Loss:  0.003425406292080879\n",
            "Epoch  91 Loss:  0.002018736209720373\n",
            "Epoch  92 Loss:  0.005812456831336021\n",
            "Epoch  93 Loss:  0.0015930619556456804\n",
            "Epoch  94 Loss:  0.006342222914099693\n",
            "Epoch  95 Loss:  0.002736040623858571\n",
            "Epoch  96 Loss:  0.0034161030780524015\n",
            "Epoch  97 Loss:  0.005827619694173336\n",
            "Epoch  98 Loss:  0.0009048494976013899\n",
            "Epoch  99 Loss:  0.002681301673874259\n",
            "Training time: 9003.751846313477\n"
          ]
        }
      ]
    },
    {
      "cell_type": "code",
      "source": [
        "plt.plot(np.linspace(0,100,num=100),hist_lstm)\n",
        "plt.xlabel(\"Training epoch #\")\n",
        "plt.ylabel(\"absolute training error\")\n",
        "plt.show()"
      ],
      "metadata": {
        "colab": {
          "base_uri": "https://localhost:8080/",
          "height": 283
        },
        "id": "IT5jSsnyeljt",
        "outputId": "2b9563df-54d4-4229-c8d3-faf107507e52"
      },
      "execution_count": null,
      "outputs": [
        {
          "output_type": "display_data",
          "data": {
            "image/png": "[encoded data removed]",
            "text/plain": [
              "<Figure size 432x288 with 1 Axes>"
            ]
          },
          "metadata": {
            "needs_background": "light"
          }
        }
      ]
    },
    {
      "cell_type": "code",
      "source": [
        "#Save trained LSTM model\n",
        "torch.save(model_lstm.state_dict(), '/content/drive/Shareddrives/Gorlewski_Soot_Restructuring_Deep_Learning/LSTM_trained.pth')"
      ],
      "metadata": {
        "id": "Jl0TLbzwKGtX"
      },
      "execution_count": null,
      "outputs": []
    },
    {
      "cell_type": "markdown",
      "source": [
        "## **Load LSTM Model (for TA)**"
      ],
      "metadata": {
        "id": "-8yK_JOOKHIo"
      }
    },
    {
      "cell_type": "code",
      "source": [
        "model_lstm = LSTM(input_dim=input_dim, hidden_dim=hidden_dim, output_dim=output_dim, num_layers=num_layers)\n",
        "model_lstm.load_state_dict(torch.load('/content/drive/Shareddrives/Gorlewski_Soot_Restructuring_Deep_Learning/LSTM_trained.pth'))"
      ],
      "metadata": {
        "id": "GFWrhOf8KMIg",
        "colab": {
          "base_uri": "https://localhost:8080/"
        },
        "outputId": "a8a7714a-aec7-4465-ed3f-d0f593e6273f"
      },
      "execution_count": null,
      "outputs": [
        {
          "output_type": "execute_result",
          "data": {
            "text/plain": [
              "<All keys matched successfully>"
            ]
          },
          "metadata": {},
          "execution_count": 58
        }
      ]
    },
    {
      "cell_type": "markdown",
      "source": [
        "## **LSTM Testing**"
      ],
      "metadata": {
        "id": "1htYCvTdfAtZ"
      }
    },
    {
      "cell_type": "code",
      "execution_count": null,
      "metadata": {
        "colab": {
          "base_uri": "https://localhost:8080/",
          "height": 314
        },
        "id": "sSqYQH3mLKgC",
        "outputId": "63d165a5-f501-4808-b1b8-dedacee7f29b"
      },
      "outputs": [
        {
          "output_type": "display_data",
          "data": {
            "image/png": "[encoded data removed]",
            "text/plain": [
              "<Figure size 432x288 with 1 Axes>"
            ]
          },
          "metadata": {
            "needs_background": "light"
          }
        },
        {
          "output_type": "stream",
          "name": "stdout",
          "text": [
            "Total MSE Testing Loss: 0.00010476388588225918\n"
          ]
        }
      ],
      "source": [
        "#testing\n",
        "results_lstm = []\n",
        "test_error_lstm = []\n",
        "model_lstm.eval()\n",
        "test_model_lstm = model_lstm\n",
        "for id_batch,(x_batch,y_batch) in enumerate(testloader):\n",
        "  with torch.no_grad():\n",
        "    test_model_lstm.hidden = (torch.zeros(1, 1, model_lstm.hidden_dim),torch.zeros(1, 1, model_lstm.hidden_dim))\n",
        "    y_batch_pred_lstm = test_model_lstm(x_batch.float())\n",
        "    test_error_lstm.append((y_batch_pred_lstm-y_batch)**2)\n",
        "    results_lstm.append(y_batch_pred_lstm)\n",
        "plt.plot(np.linspace(6830,13534,num=6704),results_lstm,label='test prediction')\n",
        "plt.plot(np.linspace(6830,13534,num=6704),y_test,label='true value')\n",
        "plt.title('LSTM Test')\n",
        "plt.xlabel('Timestep')\n",
        "plt.ylabel('Fractal Dimension')\n",
        "plt.legend(loc=\"upper left\")\n",
        "plt.show()\n",
        "total_test_loss_lstm = sum(test_error_lstm)*(1/(len(test_error_lstm)))\n",
        "print(\"Total MSE Testing Loss: {}\".format(float(total_test_loss_lstm)))"
      ]
    },
    {
      "cell_type": "markdown",
      "metadata": {
        "id": "Zzcrhu-yjBUX"
      },
      "source": [
        "# **GRU**"
      ]
    },
    {
      "cell_type": "code",
      "execution_count": null,
      "metadata": {
        "id": "IFCjqqQdjDVd"
      },
      "outputs": [],
      "source": [
        "class GRU(nn.Module):\n",
        "    def __init__(self, input_dim, hidden_dim, num_layers, output_dim):\n",
        "        super(GRU, self).__init__()\n",
        "        self.hidden_dim = hidden_dim\n",
        "        self.num_layers = num_layers\n",
        "        \n",
        "        self.gru = nn.GRU(input_dim, hidden_dim, num_layers, batch_first=True)\n",
        "        self.fc = nn.Linear(hidden_dim, output_dim)    \n",
        "    def forward(self, x):\n",
        "        h0 = torch.zeros(self.num_layers, x.size(0), self.hidden_dim).requires_grad_()\n",
        "        out, (hn) = self.gru(x, (h0.detach()))\n",
        "        out = self.fc(out[:, -1, :]) \n",
        "        return out"
      ]
    },
    {
      "cell_type": "code",
      "source": [
        "#train\n",
        "input_dim = 1\n",
        "hidden_dim = 128\n",
        "num_layers = 3\n",
        "output_dim = 1\n",
        "num_epochs = 100\n",
        "\n",
        "model_gru = GRU(input_dim=input_dim, hidden_dim=hidden_dim, output_dim=output_dim, num_layers=num_layers)\n",
        "criterion = torch.nn.L1Loss()\n",
        "optimiser = torch.optim.RMSprop(model_gru.parameters(), lr=5e-6)\n",
        "#scheduler = torch.optim.lr_scheduler.ExponentialLR(optimiser,gamma=0.9)\n",
        "\n",
        "import time\n",
        "hist_gru = np.zeros(num_epochs)\n",
        "start_time = time.time()\n",
        "rnn = []\n",
        "for t in range(num_epochs):\n",
        "  for id_batch, (x_batch,y_batch) in enumerate(dataloader):\n",
        "      y_batch_pred_gru = model_gru(x_batch.float())\n",
        "      loss = criterion(y_batch_pred_gru, y_batch)\n",
        "      \n",
        "      hist_gru[t] = loss.item()\n",
        "      optimiser.zero_grad()\n",
        "      loss.backward()\n",
        "      optimiser.step()\n",
        "      #scheduler.step()\n",
        "  print(\"Epoch \", t, \"Loss: \", loss.item())\n",
        "\n",
        "training_time = time.time()-start_time\n",
        "print(\"Training time: {}\".format(training_time))"
      ],
      "metadata": {
        "colab": {
          "base_uri": "https://localhost:8080/"
        },
        "id": "_aftx13l9koS",
        "outputId": "3f232da0-4315-40f8-e9fb-9df812515199"
      },
      "execution_count": null,
      "outputs": [
        {
          "output_type": "stream",
          "name": "stdout",
          "text": [
            "Epoch  0 Loss:  2.265444040298462\n",
            "Epoch  1 Loss:  2.212305784225464\n",
            "Epoch  2 Loss:  2.1657190322875977\n",
            "Epoch  3 Loss:  2.120805501937866\n",
            "Epoch  4 Loss:  2.0755977630615234\n",
            "Epoch  5 Loss:  2.0289535522460938\n",
            "Epoch  6 Loss:  1.980026364326477\n",
            "Epoch  7 Loss:  1.9281105995178223\n",
            "Epoch  8 Loss:  1.8726006746292114\n",
            "Epoch  9 Loss:  1.8129674196243286\n",
            "Epoch  10 Loss:  1.7486979961395264\n",
            "Epoch  11 Loss:  1.6792601346969604\n",
            "Epoch  12 Loss:  1.6040962934494019\n",
            "Epoch  13 Loss:  1.5226480960845947\n",
            "Epoch  14 Loss:  1.4343822002410889\n",
            "Epoch  15 Loss:  1.338818907737732\n",
            "Epoch  16 Loss:  1.2355716228485107\n",
            "Epoch  17 Loss:  1.124361515045166\n",
            "Epoch  18 Loss:  1.0049830675125122\n",
            "Epoch  19 Loss:  0.8772709369659424\n",
            "Epoch  20 Loss:  0.7411175966262817\n",
            "Epoch  21 Loss:  0.596552848815918\n",
            "Epoch  22 Loss:  0.44385531544685364\n",
            "Epoch  23 Loss:  0.2836127281188965\n",
            "Epoch  24 Loss:  0.14272648096084595\n",
            "Epoch  25 Loss:  0.07228831201791763\n",
            "Epoch  26 Loss:  0.030751993879675865\n",
            "Epoch  27 Loss:  0.003972338512539864\n",
            "Epoch  28 Loss:  0.0026592793874442577\n",
            "Epoch  29 Loss:  0.0011122686555609107\n",
            "Epoch  30 Loss:  0.0035502396058291197\n",
            "Epoch  31 Loss:  0.0008366569527424872\n",
            "Epoch  32 Loss:  0.0034539184998720884\n",
            "Epoch  33 Loss:  0.0009177241008728743\n",
            "Epoch  34 Loss:  0.0032855954486876726\n",
            "Epoch  35 Loss:  0.0009868653723970056\n",
            "Epoch  36 Loss:  0.0032934679184108973\n",
            "Epoch  37 Loss:  0.0009184345253743231\n",
            "Epoch  38 Loss:  0.0033926547039300203\n",
            "Epoch  39 Loss:  0.0007780010928399861\n",
            "Epoch  40 Loss:  0.0035640776623040438\n",
            "Epoch  41 Loss:  0.0005343470838852227\n",
            "Epoch  42 Loss:  0.0038401565980166197\n",
            "Epoch  43 Loss:  0.00023488841543439776\n",
            "Epoch  44 Loss:  0.004125310108065605\n",
            "Epoch  45 Loss:  6.004017996019684e-05\n",
            "Epoch  46 Loss:  0.002818859415128827\n",
            "Epoch  47 Loss:  0.002857161918655038\n",
            "Epoch  48 Loss:  0.0005941755371168256\n",
            "Epoch  49 Loss:  0.004260975401848555\n",
            "Epoch  50 Loss:  0.0004095520998816937\n",
            "Epoch  51 Loss:  0.002419279422610998\n",
            "Epoch  52 Loss:  0.003403145121410489\n",
            "Epoch  53 Loss:  6.36115946690552e-05\n",
            "Epoch  54 Loss:  0.002727078041061759\n",
            "Epoch  55 Loss:  0.0034253131598234177\n",
            "Epoch  56 Loss:  0.00027198949828743935\n",
            "Epoch  57 Loss:  0.0024910434149205685\n",
            "Epoch  58 Loss:  0.003781992243602872\n",
            "Epoch  59 Loss:  0.0006894554244354367\n",
            "Epoch  60 Loss:  0.002052109921351075\n",
            "Epoch  61 Loss:  0.0042581092566251755\n",
            "Epoch  62 Loss:  0.0011829870054498315\n",
            "Epoch  63 Loss:  0.0015404685400426388\n",
            "Epoch  64 Loss:  0.004765702411532402\n",
            "Epoch  65 Loss:  0.001706554088741541\n",
            "Epoch  66 Loss:  0.001000698539428413\n",
            "Epoch  67 Loss:  0.005301663652062416\n",
            "Epoch  68 Loss:  0.002257534535601735\n",
            "Epoch  69 Loss:  0.00043396797263994813\n",
            "Epoch  70 Loss:  0.005610273219645023\n",
            "Epoch  71 Loss:  0.002826410811394453\n",
            "Epoch  72 Loss:  0.00014658125292044133\n",
            "Epoch  73 Loss:  0.0024951014202088118\n",
            "Epoch  74 Loss:  0.0049356999807059765\n",
            "Epoch  75 Loss:  0.00226897862739861\n",
            "Epoch  76 Loss:  0.00036006304435431957\n",
            "Epoch  77 Loss:  0.0051153176464140415\n",
            "Epoch  78 Loss:  0.0036215316504240036\n",
            "Epoch  79 Loss:  0.0009953418048098683\n",
            "Epoch  80 Loss:  0.0015962584875524044\n",
            "Epoch  81 Loss:  0.005571654066443443\n",
            "Epoch  82 Loss:  0.0033435311634093523\n",
            "Epoch  83 Loss:  0.0007543005049228668\n",
            "Epoch  84 Loss:  0.0015564474742859602\n",
            "Epoch  85 Loss:  0.005303428508341312\n",
            "Epoch  86 Loss:  0.0036716044414788485\n",
            "Epoch  87 Loss:  0.0011100260308012366\n",
            "Epoch  88 Loss:  0.0010753186652436852\n",
            "Epoch  89 Loss:  0.004760554991662502\n",
            "Epoch  90 Loss:  0.004275747574865818\n",
            "Epoch  91 Loss:  0.0017373004229739308\n",
            "Epoch  92 Loss:  0.00037412490928545594\n",
            "Epoch  93 Loss:  0.0040407548658549786\n",
            "Epoch  94 Loss:  0.005055624060332775\n",
            "Epoch  95 Loss:  0.0025400654412806034\n",
            "Epoch  96 Loss:  0.00039859459502622485\n",
            "Epoch  97 Loss:  0.0006385311135090888\n",
            "Epoch  98 Loss:  0.003830245928838849\n",
            "Epoch  99 Loss:  0.005344826728105545\n",
            "Training time: 6916.889498472214\n"
          ]
        }
      ]
    },
    {
      "cell_type": "code",
      "source": [
        "plt.plot(np.linspace(0,100,num=100),hist_gru)\n",
        "plt.xlabel(\"Training epoch #\")\n",
        "plt.ylabel(\"absolute training error\")\n",
        "plt.show()"
      ],
      "metadata": {
        "colab": {
          "base_uri": "https://localhost:8080/",
          "height": 279
        },
        "id": "fmQ4hgSSe2zp",
        "outputId": "89708025-c81e-41a6-bccd-055057f1d071"
      },
      "execution_count": null,
      "outputs": [
        {
          "output_type": "display_data",
          "data": {
            "image/png": "[encoded data removed]",
            "text/plain": [
              "<Figure size 432x288 with 1 Axes>"
            ]
          },
          "metadata": {
            "needs_background": "light"
          }
        }
      ]
    },
    {
      "cell_type": "code",
      "source": [
        "#save trained GRU model\n",
        "torch.save(model_gru.state_dict(), '/content/drive/Shareddrives/Gorlewski_Soot_Restructuring_Deep_Learning/GRU_trained.pth')"
      ],
      "metadata": {
        "id": "DnHhgfI8-Di9"
      },
      "execution_count": null,
      "outputs": []
    },
    {
      "cell_type": "markdown",
      "source": [
        "## **Load GRU Model (For TA)**"
      ],
      "metadata": {
        "id": "N-4IhcUS-Q8h"
      }
    },
    {
      "cell_type": "code",
      "source": [
        "model_gru = GRU(input_dim=input_dim, hidden_dim=hidden_dim, output_dim=output_dim, num_layers=num_layers)\n",
        "model_gru.load_state_dict(torch.load('/content/drive/Shareddrives/Gorlewski_Soot_Restructuring_Deep_Learning/GRU_trained.pth'))"
      ],
      "metadata": {
        "colab": {
          "base_uri": "https://localhost:8080/"
        },
        "id": "qvyLZIxY-WZR",
        "outputId": "d48cd548-fc43-4112-e2ef-cb865e400e06"
      },
      "execution_count": null,
      "outputs": [
        {
          "output_type": "execute_result",
          "data": {
            "text/plain": [
              "<All keys matched successfully>"
            ]
          },
          "metadata": {},
          "execution_count": 64
        }
      ]
    },
    {
      "cell_type": "code",
      "execution_count": null,
      "metadata": {
        "id": "IaEVTgRGu4xY",
        "colab": {
          "base_uri": "https://localhost:8080/",
          "height": 314
        },
        "outputId": "69bae2a8-bad6-4622-a72e-bb49b05df762"
      },
      "outputs": [
        {
          "output_type": "display_data",
          "data": {
            "image/png": "[encoded data removed]",
            "text/plain": [
              "<Figure size 432x288 with 1 Axes>"
            ]
          },
          "metadata": {
            "needs_background": "light"
          }
        },
        {
          "output_type": "stream",
          "name": "stdout",
          "text": [
            "Total MSE Testing Loss: 0.00022870572273863814\n"
          ]
        }
      ],
      "source": [
        "#testing\n",
        "results_gru = []\n",
        "test_error_gru = []\n",
        "model_gru.eval()\n",
        "test_model_gru = model_gru\n",
        "for id_batch,(x_batch,y_batch) in enumerate(testloader):\n",
        "  with torch.no_grad():\n",
        "    test_model_gru.hidden = (torch.zeros(1, 1, model_gru.hidden_dim),torch.zeros(1, 1, model_gru.hidden_dim))\n",
        "    y_batch_pred_gru = test_model_gru(x_batch.float())\n",
        "    test_error_gru.append((y_batch_pred_gru-y_batch)**2)\n",
        "    results_gru.append(y_batch_pred_gru)\n",
        "plt.plot(np.linspace(6830,13534,num=6704),results_gru,label='test prediction')\n",
        "plt.plot(np.linspace(6830,13534,num=6704),y_test,label='true value')\n",
        "plt.title('GRU Test')\n",
        "plt.xlabel('Timestep')\n",
        "plt.ylabel('Fractal Dimension')\n",
        "plt.legend(loc=\"upper left\")\n",
        "plt.show()\n",
        "total_test_loss_gru = sum(test_error_gru)*(1/(len(test_error_gru)))\n",
        "print(\"Total MSE Testing Loss: {}\".format(float(total_test_loss_gru)))"
      ]
    }
  ],
  "metadata": {
    "accelerator": "GPU",
    "colab": {
      "collapsed_sections": [],
      "name": "Gorlewski_CS677_Soot_Networks.ipynb",
      "provenance": []
    },
    "kernelspec": {
      "display_name": "Python 3",
      "name": "python3"
    },
    "language_info": {
      "name": "python"
    }
  },
  "nbformat": 4,
  "nbformat_minor": 0
}